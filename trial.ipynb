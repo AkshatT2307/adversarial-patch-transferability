{
 "cells": [
  {
   "cell_type": "raw",
   "id": "add957fb",
   "metadata": {},
   "source": [
    "just to know whether is it valid pushing\n",
    "\n",
    "cityscapes.py       ok\n",
    "model.py        ok\n",
    "saare individual model ke .py\n",
    "config.yaml     ok\n",
    "utils.py        ok\n",
    "trainer.py     ok\n",
    "\n",
    "\n",
    "\n",
    "x = (2048 - 200)//2\n",
    "y = (1024 - 200)//2\n",
    "x_end = x + 200\n",
    "y_end = y + 200\n",
    "\n",
    "\n",
    "\n",
    "this is how we are fixing the test loacation and scale of the patch, i want to insert this in each loop so it can be random for each image.\n",
    "so the main code to be changed is identified now if possible, implement this as soon as possible when you get the resources\n",
    "Experiments\\pidnet_s.p"
   ]
  },
  {
   "cell_type": "code",
   "execution_count": null,
   "id": "f196e9e7",
   "metadata": {},
   "outputs": [],
   "source": [
    "import random"
   ]
  },
  {
   "cell_type": "code",
   "execution_count": 4,
   "id": "ce77d802",
   "metadata": {},
   "outputs": [],
   "source": [
    "a=random.choice([25,50,100,200,300,400,500,600])"
   ]
  },
  {
   "cell_type": "code",
   "execution_count": 5,
   "id": "eae9ec25",
   "metadata": {},
   "outputs": [
    {
     "data": {
      "text/plain": [
       "25"
      ]
     },
     "execution_count": 5,
     "metadata": {},
     "output_type": "execute_result"
    }
   ],
   "source": [
    "a"
   ]
  },
  {
   "cell_type": "markdown",
   "id": "f773a3c1",
   "metadata": {},
   "source": []
  }
 ],
 "metadata": {
  "kernelspec": {
   "display_name": "Python 3",
   "language": "python",
   "name": "python3"
  },
  "language_info": {
   "codemirror_mode": {
    "name": "ipython",
    "version": 3
   },
   "file_extension": ".py",
   "mimetype": "text/x-python",
   "name": "python",
   "nbconvert_exporter": "python",
   "pygments_lexer": "ipython3",
   "version": "3.13.1"
  }
 },
 "nbformat": 4,
 "nbformat_minor": 5
}
